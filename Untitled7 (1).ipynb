{
  "cells": [
    {
      "cell_type": "code",
      "execution_count": 2,
      "metadata": {
        "colab": {
          "base_uri": "https://localhost:8080/"
        },
        "id": "o_9QsmZPofs9",
        "outputId": "7edf290e-443c-42e6-be7c-970d20684791"
      },
      "outputs": [
        {
          "output_type": "stream",
          "name": "stdout",
          "text": [
            "Cloning into 'shap-e'...\n",
            "remote: Enumerating objects: 336, done.\u001b[K\n",
            "remote: Counting objects: 100% (55/55), done.\u001b[K\n",
            "remote: Compressing objects: 100% (42/42), done.\u001b[K\n",
            "remote: Total 336 (delta 35), reused 13 (delta 13), pack-reused 281 (from 2)\u001b[K\n",
            "Receiving objects: 100% (336/336), 11.72 MiB | 14.62 MiB/s, done.\n",
            "Resolving deltas: 100% (43/43), done.\n"
          ]
        }
      ],
      "source": [
        "!git clone https://github.com/openai/shap-e\n",
        "\n"
      ]
    },
    {
      "cell_type": "code",
      "source": [
        "cd shap-e"
      ],
      "metadata": {
        "colab": {
          "base_uri": "https://localhost:8080/"
        },
        "id": "Z1rnJ81LNCVE",
        "outputId": "66b6f7fe-f5ff-407b-ec41-3d3236c37382"
      },
      "execution_count": 3,
      "outputs": [
        {
          "output_type": "stream",
          "name": "stdout",
          "text": [
            "/content/shap-e\n"
          ]
        }
      ]
    },
    {
      "cell_type": "code",
      "source": [
        "pip install -e"
      ],
      "metadata": {
        "colab": {
          "base_uri": "https://localhost:8080/"
        },
        "id": "4Eo-Qfb1NCX5",
        "outputId": "5a5056d2-263b-4485-91d8-519af8c8090b"
      },
      "execution_count": 4,
      "outputs": [
        {
          "output_type": "stream",
          "name": "stdout",
          "text": [
            "\n",
            "Usage:   \n",
            "  pip3 install [options] <requirement specifier> [package-index-options] ...\n",
            "  pip3 install [options] -r <requirements file> [package-index-options] ...\n",
            "  pip3 install [options] [-e] <vcs project url> ...\n",
            "  pip3 install [options] [-e] <local project path> ...\n",
            "  pip3 install [options] <archive url/path> ...\n",
            "\n",
            "-e option requires 1 argument\n"
          ]
        }
      ]
    },
    {
      "cell_type": "code",
      "source": [],
      "metadata": {
        "id": "WxVDFJgqNCbh"
      },
      "execution_count": 5,
      "outputs": []
    },
    {
      "cell_type": "code",
      "source": [],
      "metadata": {
        "id": "Tj8wlXnLNCgu"
      },
      "execution_count": null,
      "outputs": []
    },
    {
      "cell_type": "code",
      "execution_count": 5,
      "metadata": {
        "colab": {
          "base_uri": "https://localhost:8080/"
        },
        "id": "RWV3lNf_wBRf",
        "outputId": "ac8554d5-77bb-4c3d-bb3f-42d3b2fd55eb"
      },
      "outputs": [
        {
          "output_type": "stream",
          "name": "stdout",
          "text": [
            "Shap-E installed successfully!\n"
          ]
        }
      ],
      "source": [
        "import shap_e\n",
        "print(\"Shap-E installed successfully!\")\n"
      ]
    },
    {
      "cell_type": "code",
      "source": [
        "!pip install blobfile"
      ],
      "metadata": {
        "colab": {
          "base_uri": "https://localhost:8080/"
        },
        "id": "F7zq7O28OdCD",
        "outputId": "e9efb672-76c5-43f5-d321-af4dc932aa2b"
      },
      "execution_count": 6,
      "outputs": [
        {
          "output_type": "stream",
          "name": "stdout",
          "text": [
            "Collecting blobfile\n",
            "  Downloading blobfile-3.0.0-py3-none-any.whl.metadata (15 kB)\n",
            "Collecting pycryptodomex>=3.8 (from blobfile)\n",
            "  Downloading pycryptodomex-3.21.0-cp36-abi3-manylinux_2_17_x86_64.manylinux2014_x86_64.whl.metadata (3.4 kB)\n",
            "Requirement already satisfied: urllib3<3,>=1.25.3 in /usr/local/lib/python3.11/dist-packages (from blobfile) (2.3.0)\n",
            "Requirement already satisfied: lxml>=4.9 in /usr/local/lib/python3.11/dist-packages (from blobfile) (5.3.1)\n",
            "Requirement already satisfied: filelock>=3.0 in /usr/local/lib/python3.11/dist-packages (from blobfile) (3.17.0)\n",
            "Downloading blobfile-3.0.0-py3-none-any.whl (75 kB)\n",
            "\u001b[2K   \u001b[90m━━━━━━━━━━━━━━━━━━━━━━━━━━━━━━━━━━━━━━━━\u001b[0m \u001b[32m75.4/75.4 kB\u001b[0m \u001b[31m5.2 MB/s\u001b[0m eta \u001b[36m0:00:00\u001b[0m\n",
            "\u001b[?25hDownloading pycryptodomex-3.21.0-cp36-abi3-manylinux_2_17_x86_64.manylinux2014_x86_64.whl (2.3 MB)\n",
            "\u001b[2K   \u001b[90m━━━━━━━━━━━━━━━━━━━━━━━━━━━━━━━━━━━━━━━━\u001b[0m \u001b[32m2.3/2.3 MB\u001b[0m \u001b[31m35.7 MB/s\u001b[0m eta \u001b[36m0:00:00\u001b[0m\n",
            "\u001b[?25hInstalling collected packages: pycryptodomex, blobfile\n",
            "Successfully installed blobfile-3.0.0 pycryptodomex-3.21.0\n"
          ]
        }
      ]
    },
    {
      "cell_type": "code",
      "execution_count": 7,
      "metadata": {
        "id": "ddIX71JKvH25"
      },
      "outputs": [],
      "source": [
        "import torch\n",
        "from shap_e.diffusion.sample import sample_latents\n",
        "from shap_e.diffusion.gaussian_diffusion import diffusion_from_config\n",
        "from shap_e.models.download import load_model, load_config\n",
        "from shap_e.util.notebooks import create_pan_cameras, decode_latent_images, gif_widget"
      ]
    },
    {
      "cell_type": "code",
      "source": [
        "device=torch.device('cuda' if torch.cuda.is_available() else 'cpu')"
      ],
      "metadata": {
        "id": "YMqfuKYDOuj7"
      },
      "execution_count": 8,
      "outputs": []
    },
    {
      "cell_type": "code",
      "source": [],
      "metadata": {
        "id": "_aYo4y-Psm3l"
      },
      "execution_count": null,
      "outputs": []
    },
    {
      "cell_type": "code",
      "source": [
        "!pip install ftfy regex tqdm\n",
        "!pip install --upgrade git+https://github.com/openai/CLIP.git  # Install with upgrade option\n",
        "!pip uninstall clip -y # uninstall the shadowing `clip` package\n",
        "\n",
        "import clip # Check the import works correctly"
      ],
      "metadata": {
        "colab": {
          "base_uri": "https://localhost:8080/",
          "height": 1000
        },
        "id": "ytibzjQaQe5S",
        "outputId": "912e88ac-57f3-4382-bd10-94b15a59d8f6"
      },
      "execution_count": 9,
      "outputs": [
        {
          "output_type": "stream",
          "name": "stdout",
          "text": [
            "Collecting ftfy\n",
            "  Downloading ftfy-6.3.1-py3-none-any.whl.metadata (7.3 kB)\n",
            "Requirement already satisfied: regex in /usr/local/lib/python3.11/dist-packages (2024.11.6)\n",
            "Requirement already satisfied: tqdm in /usr/local/lib/python3.11/dist-packages (4.67.1)\n",
            "Requirement already satisfied: wcwidth in /usr/local/lib/python3.11/dist-packages (from ftfy) (0.2.13)\n",
            "Downloading ftfy-6.3.1-py3-none-any.whl (44 kB)\n",
            "\u001b[?25l   \u001b[90m━━━━━━━━━━━━━━━━━━━━━━━━━━━━━━━━━━━━━━━━\u001b[0m \u001b[32m0.0/44.8 kB\u001b[0m \u001b[31m?\u001b[0m eta \u001b[36m-:--:--\u001b[0m\r\u001b[2K   \u001b[90m━━━━━━━━━━━━━━━━━━━━━━━━━━━━━━━━━━━━━━━━\u001b[0m \u001b[32m44.8/44.8 kB\u001b[0m \u001b[31m2.3 MB/s\u001b[0m eta \u001b[36m0:00:00\u001b[0m\n",
            "\u001b[?25hInstalling collected packages: ftfy\n",
            "Successfully installed ftfy-6.3.1\n",
            "Collecting git+https://github.com/openai/CLIP.git\n",
            "  Cloning https://github.com/openai/CLIP.git to /tmp/pip-req-build-9u5_xu6w\n",
            "  Running command git clone --filter=blob:none --quiet https://github.com/openai/CLIP.git /tmp/pip-req-build-9u5_xu6w\n",
            "  Resolved https://github.com/openai/CLIP.git to commit dcba3cb2e2827b402d2701e7e1c7d9fed8a20ef1\n",
            "  Preparing metadata (setup.py) ... \u001b[?25l\u001b[?25hdone\n",
            "Requirement already satisfied: ftfy in /usr/local/lib/python3.11/dist-packages (from clip==1.0) (6.3.1)\n",
            "Requirement already satisfied: packaging in /usr/local/lib/python3.11/dist-packages (from clip==1.0) (24.2)\n",
            "Requirement already satisfied: regex in /usr/local/lib/python3.11/dist-packages (from clip==1.0) (2024.11.6)\n",
            "Requirement already satisfied: tqdm in /usr/local/lib/python3.11/dist-packages (from clip==1.0) (4.67.1)\n",
            "Requirement already satisfied: torch in /usr/local/lib/python3.11/dist-packages (from clip==1.0) (2.5.1+cu124)\n",
            "Requirement already satisfied: torchvision in /usr/local/lib/python3.11/dist-packages (from clip==1.0) (0.20.1+cu124)\n",
            "Requirement already satisfied: wcwidth in /usr/local/lib/python3.11/dist-packages (from ftfy->clip==1.0) (0.2.13)\n",
            "Requirement already satisfied: filelock in /usr/local/lib/python3.11/dist-packages (from torch->clip==1.0) (3.17.0)\n",
            "Requirement already satisfied: typing-extensions>=4.8.0 in /usr/local/lib/python3.11/dist-packages (from torch->clip==1.0) (4.12.2)\n",
            "Requirement already satisfied: networkx in /usr/local/lib/python3.11/dist-packages (from torch->clip==1.0) (3.4.2)\n",
            "Requirement already satisfied: jinja2 in /usr/local/lib/python3.11/dist-packages (from torch->clip==1.0) (3.1.5)\n",
            "Requirement already satisfied: fsspec in /usr/local/lib/python3.11/dist-packages (from torch->clip==1.0) (2024.10.0)\n",
            "Collecting nvidia-cuda-nvrtc-cu12==12.4.127 (from torch->clip==1.0)\n",
            "  Downloading nvidia_cuda_nvrtc_cu12-12.4.127-py3-none-manylinux2014_x86_64.whl.metadata (1.5 kB)\n",
            "Collecting nvidia-cuda-runtime-cu12==12.4.127 (from torch->clip==1.0)\n",
            "  Downloading nvidia_cuda_runtime_cu12-12.4.127-py3-none-manylinux2014_x86_64.whl.metadata (1.5 kB)\n",
            "Collecting nvidia-cuda-cupti-cu12==12.4.127 (from torch->clip==1.0)\n",
            "  Downloading nvidia_cuda_cupti_cu12-12.4.127-py3-none-manylinux2014_x86_64.whl.metadata (1.6 kB)\n",
            "Collecting nvidia-cudnn-cu12==9.1.0.70 (from torch->clip==1.0)\n",
            "  Downloading nvidia_cudnn_cu12-9.1.0.70-py3-none-manylinux2014_x86_64.whl.metadata (1.6 kB)\n",
            "Collecting nvidia-cublas-cu12==12.4.5.8 (from torch->clip==1.0)\n",
            "  Downloading nvidia_cublas_cu12-12.4.5.8-py3-none-manylinux2014_x86_64.whl.metadata (1.5 kB)\n",
            "Collecting nvidia-cufft-cu12==11.2.1.3 (from torch->clip==1.0)\n",
            "  Downloading nvidia_cufft_cu12-11.2.1.3-py3-none-manylinux2014_x86_64.whl.metadata (1.5 kB)\n",
            "Collecting nvidia-curand-cu12==10.3.5.147 (from torch->clip==1.0)\n",
            "  Downloading nvidia_curand_cu12-10.3.5.147-py3-none-manylinux2014_x86_64.whl.metadata (1.5 kB)\n",
            "Collecting nvidia-cusolver-cu12==11.6.1.9 (from torch->clip==1.0)\n",
            "  Downloading nvidia_cusolver_cu12-11.6.1.9-py3-none-manylinux2014_x86_64.whl.metadata (1.6 kB)\n",
            "Collecting nvidia-cusparse-cu12==12.3.1.170 (from torch->clip==1.0)\n",
            "  Downloading nvidia_cusparse_cu12-12.3.1.170-py3-none-manylinux2014_x86_64.whl.metadata (1.6 kB)\n",
            "Requirement already satisfied: nvidia-nccl-cu12==2.21.5 in /usr/local/lib/python3.11/dist-packages (from torch->clip==1.0) (2.21.5)\n",
            "Requirement already satisfied: nvidia-nvtx-cu12==12.4.127 in /usr/local/lib/python3.11/dist-packages (from torch->clip==1.0) (12.4.127)\n",
            "Collecting nvidia-nvjitlink-cu12==12.4.127 (from torch->clip==1.0)\n",
            "  Downloading nvidia_nvjitlink_cu12-12.4.127-py3-none-manylinux2014_x86_64.whl.metadata (1.5 kB)\n",
            "Requirement already satisfied: triton==3.1.0 in /usr/local/lib/python3.11/dist-packages (from torch->clip==1.0) (3.1.0)\n",
            "Requirement already satisfied: sympy==1.13.1 in /usr/local/lib/python3.11/dist-packages (from torch->clip==1.0) (1.13.1)\n",
            "Requirement already satisfied: mpmath<1.4,>=1.1.0 in /usr/local/lib/python3.11/dist-packages (from sympy==1.13.1->torch->clip==1.0) (1.3.0)\n",
            "Requirement already satisfied: numpy in /usr/local/lib/python3.11/dist-packages (from torchvision->clip==1.0) (1.26.4)\n",
            "Requirement already satisfied: pillow!=8.3.*,>=5.3.0 in /usr/local/lib/python3.11/dist-packages (from torchvision->clip==1.0) (11.1.0)\n",
            "Requirement already satisfied: MarkupSafe>=2.0 in /usr/local/lib/python3.11/dist-packages (from jinja2->torch->clip==1.0) (3.0.2)\n",
            "Downloading nvidia_cublas_cu12-12.4.5.8-py3-none-manylinux2014_x86_64.whl (363.4 MB)\n",
            "\u001b[2K   \u001b[90m━━━━━━━━━━━━━━━━━━━━━━━━━━━━━━━━━━━━━━━━\u001b[0m \u001b[32m363.4/363.4 MB\u001b[0m \u001b[31m4.5 MB/s\u001b[0m eta \u001b[36m0:00:00\u001b[0m\n",
            "\u001b[?25hDownloading nvidia_cuda_cupti_cu12-12.4.127-py3-none-manylinux2014_x86_64.whl (13.8 MB)\n",
            "\u001b[2K   \u001b[90m━━━━━━━━━━━━━━━━━━━━━━━━━━━━━━━━━━━━━━━━\u001b[0m \u001b[32m13.8/13.8 MB\u001b[0m \u001b[31m102.9 MB/s\u001b[0m eta \u001b[36m0:00:00\u001b[0m\n",
            "\u001b[?25hDownloading nvidia_cuda_nvrtc_cu12-12.4.127-py3-none-manylinux2014_x86_64.whl (24.6 MB)\n",
            "\u001b[2K   \u001b[90m━━━━━━━━━━━━━━━━━━━━━━━━━━━━━━━━━━━━━━━━\u001b[0m \u001b[32m24.6/24.6 MB\u001b[0m \u001b[31m82.7 MB/s\u001b[0m eta \u001b[36m0:00:00\u001b[0m\n",
            "\u001b[?25hDownloading nvidia_cuda_runtime_cu12-12.4.127-py3-none-manylinux2014_x86_64.whl (883 kB)\n",
            "\u001b[2K   \u001b[90m━━━━━━━━━━━━━━━━━━━━━━━━━━━━━━━━━━━━━━━━\u001b[0m \u001b[32m883.7/883.7 kB\u001b[0m \u001b[31m55.4 MB/s\u001b[0m eta \u001b[36m0:00:00\u001b[0m\n",
            "\u001b[?25hDownloading nvidia_cudnn_cu12-9.1.0.70-py3-none-manylinux2014_x86_64.whl (664.8 MB)\n",
            "\u001b[2K   \u001b[90m━━━━━━━━━━━━━━━━━━━━━━━━━━━━━━━━━━━━━━━━\u001b[0m \u001b[32m664.8/664.8 MB\u001b[0m \u001b[31m2.7 MB/s\u001b[0m eta \u001b[36m0:00:00\u001b[0m\n",
            "\u001b[?25hDownloading nvidia_cufft_cu12-11.2.1.3-py3-none-manylinux2014_x86_64.whl (211.5 MB)\n",
            "\u001b[2K   \u001b[90m━━━━━━━━━━━━━━━━━━━━━━━━━━━━━━━━━━━━━━━━\u001b[0m \u001b[32m211.5/211.5 MB\u001b[0m \u001b[31m5.8 MB/s\u001b[0m eta \u001b[36m0:00:00\u001b[0m\n",
            "\u001b[?25hDownloading nvidia_curand_cu12-10.3.5.147-py3-none-manylinux2014_x86_64.whl (56.3 MB)\n",
            "\u001b[2K   \u001b[90m━━━━━━━━━━━━━━━━━━━━━━━━━━━━━━━━━━━━━━━━\u001b[0m \u001b[32m56.3/56.3 MB\u001b[0m \u001b[31m13.2 MB/s\u001b[0m eta \u001b[36m0:00:00\u001b[0m\n",
            "\u001b[?25hDownloading nvidia_cusolver_cu12-11.6.1.9-py3-none-manylinux2014_x86_64.whl (127.9 MB)\n",
            "\u001b[2K   \u001b[90m━━━━━━━━━━━━━━━━━━━━━━━━━━━━━━━━━━━━━━━━\u001b[0m \u001b[32m127.9/127.9 MB\u001b[0m \u001b[31m5.8 MB/s\u001b[0m eta \u001b[36m0:00:00\u001b[0m\n",
            "\u001b[?25hDownloading nvidia_cusparse_cu12-12.3.1.170-py3-none-manylinux2014_x86_64.whl (207.5 MB)\n",
            "\u001b[2K   \u001b[90m━━━━━━━━━━━━━━━━━━━━━━━━━━━━━━━━━━━━━━━━\u001b[0m \u001b[32m207.5/207.5 MB\u001b[0m \u001b[31m5.9 MB/s\u001b[0m eta \u001b[36m0:00:00\u001b[0m\n",
            "\u001b[?25hDownloading nvidia_nvjitlink_cu12-12.4.127-py3-none-manylinux2014_x86_64.whl (21.1 MB)\n",
            "\u001b[2K   \u001b[90m━━━━━━━━━━━━━━━━━━━━━━━━━━━━━━━━━━━━━━━━\u001b[0m \u001b[32m21.1/21.1 MB\u001b[0m \u001b[31m62.6 MB/s\u001b[0m eta \u001b[36m0:00:00\u001b[0m\n",
            "\u001b[?25hBuilding wheels for collected packages: clip\n",
            "  Building wheel for clip (setup.py) ... \u001b[?25l\u001b[?25hdone\n",
            "  Created wheel for clip: filename=clip-1.0-py3-none-any.whl size=1369489 sha256=46cff582537c8e03dff4200d5ace732974517dc74b69d0126214fef68e5f4eb0\n",
            "  Stored in directory: /tmp/pip-ephem-wheel-cache-bmp892o1/wheels/3f/7c/a4/9b490845988bf7a4db33674d52f709f088f64392063872eb9a\n",
            "Successfully built clip\n",
            "Installing collected packages: nvidia-nvjitlink-cu12, nvidia-curand-cu12, nvidia-cufft-cu12, nvidia-cuda-runtime-cu12, nvidia-cuda-nvrtc-cu12, nvidia-cuda-cupti-cu12, nvidia-cublas-cu12, nvidia-cusparse-cu12, nvidia-cudnn-cu12, nvidia-cusolver-cu12, clip\n",
            "  Attempting uninstall: nvidia-nvjitlink-cu12\n",
            "    Found existing installation: nvidia-nvjitlink-cu12 12.5.82\n",
            "    Uninstalling nvidia-nvjitlink-cu12-12.5.82:\n",
            "      Successfully uninstalled nvidia-nvjitlink-cu12-12.5.82\n",
            "  Attempting uninstall: nvidia-curand-cu12\n",
            "    Found existing installation: nvidia-curand-cu12 10.3.6.82\n",
            "    Uninstalling nvidia-curand-cu12-10.3.6.82:\n",
            "      Successfully uninstalled nvidia-curand-cu12-10.3.6.82\n",
            "  Attempting uninstall: nvidia-cufft-cu12\n",
            "    Found existing installation: nvidia-cufft-cu12 11.2.3.61\n",
            "    Uninstalling nvidia-cufft-cu12-11.2.3.61:\n",
            "      Successfully uninstalled nvidia-cufft-cu12-11.2.3.61\n",
            "  Attempting uninstall: nvidia-cuda-runtime-cu12\n",
            "    Found existing installation: nvidia-cuda-runtime-cu12 12.5.82\n",
            "    Uninstalling nvidia-cuda-runtime-cu12-12.5.82:\n",
            "      Successfully uninstalled nvidia-cuda-runtime-cu12-12.5.82\n",
            "  Attempting uninstall: nvidia-cuda-nvrtc-cu12\n",
            "    Found existing installation: nvidia-cuda-nvrtc-cu12 12.5.82\n",
            "    Uninstalling nvidia-cuda-nvrtc-cu12-12.5.82:\n",
            "      Successfully uninstalled nvidia-cuda-nvrtc-cu12-12.5.82\n",
            "  Attempting uninstall: nvidia-cuda-cupti-cu12\n",
            "    Found existing installation: nvidia-cuda-cupti-cu12 12.5.82\n",
            "    Uninstalling nvidia-cuda-cupti-cu12-12.5.82:\n",
            "      Successfully uninstalled nvidia-cuda-cupti-cu12-12.5.82\n",
            "  Attempting uninstall: nvidia-cublas-cu12\n",
            "    Found existing installation: nvidia-cublas-cu12 12.5.3.2\n",
            "    Uninstalling nvidia-cublas-cu12-12.5.3.2:\n",
            "      Successfully uninstalled nvidia-cublas-cu12-12.5.3.2\n",
            "  Attempting uninstall: nvidia-cusparse-cu12\n",
            "    Found existing installation: nvidia-cusparse-cu12 12.5.1.3\n",
            "    Uninstalling nvidia-cusparse-cu12-12.5.1.3:\n",
            "      Successfully uninstalled nvidia-cusparse-cu12-12.5.1.3\n",
            "  Attempting uninstall: nvidia-cudnn-cu12\n",
            "    Found existing installation: nvidia-cudnn-cu12 9.3.0.75\n",
            "    Uninstalling nvidia-cudnn-cu12-9.3.0.75:\n",
            "      Successfully uninstalled nvidia-cudnn-cu12-9.3.0.75\n",
            "  Attempting uninstall: nvidia-cusolver-cu12\n",
            "    Found existing installation: nvidia-cusolver-cu12 11.6.3.83\n",
            "    Uninstalling nvidia-cusolver-cu12-11.6.3.83:\n",
            "      Successfully uninstalled nvidia-cusolver-cu12-11.6.3.83\n",
            "Successfully installed clip-1.0 nvidia-cublas-cu12-12.4.5.8 nvidia-cuda-cupti-cu12-12.4.127 nvidia-cuda-nvrtc-cu12-12.4.127 nvidia-cuda-runtime-cu12-12.4.127 nvidia-cudnn-cu12-9.1.0.70 nvidia-cufft-cu12-11.2.1.3 nvidia-curand-cu12-10.3.5.147 nvidia-cusolver-cu12-11.6.1.9 nvidia-cusparse-cu12-12.3.1.170 nvidia-nvjitlink-cu12-12.4.127\n",
            "Found existing installation: clip 1.0\n",
            "Uninstalling clip-1.0:\n",
            "  Successfully uninstalled clip-1.0\n"
          ]
        },
        {
          "output_type": "error",
          "ename": "ModuleNotFoundError",
          "evalue": "No module named 'clip'",
          "traceback": [
            "\u001b[0;31m---------------------------------------------------------------------------\u001b[0m",
            "\u001b[0;31mModuleNotFoundError\u001b[0m                       Traceback (most recent call last)",
            "\u001b[0;32m<ipython-input-9-44e0fb0ca5d0>\u001b[0m in \u001b[0;36m<cell line: 0>\u001b[0;34m()\u001b[0m\n\u001b[1;32m      3\u001b[0m \u001b[0mget_ipython\u001b[0m\u001b[0;34m(\u001b[0m\u001b[0;34m)\u001b[0m\u001b[0;34m.\u001b[0m\u001b[0msystem\u001b[0m\u001b[0;34m(\u001b[0m\u001b[0;34m'pip uninstall clip -y # uninstall the shadowing `clip` package'\u001b[0m\u001b[0;34m)\u001b[0m\u001b[0;34m\u001b[0m\u001b[0;34m\u001b[0m\u001b[0m\n\u001b[1;32m      4\u001b[0m \u001b[0;34m\u001b[0m\u001b[0m\n\u001b[0;32m----> 5\u001b[0;31m \u001b[0;32mimport\u001b[0m \u001b[0mclip\u001b[0m \u001b[0;31m# Check the import works correctly\u001b[0m\u001b[0;34m\u001b[0m\u001b[0;34m\u001b[0m\u001b[0m\n\u001b[0m",
            "\u001b[0;31mModuleNotFoundError\u001b[0m: No module named 'clip'",
            "",
            "\u001b[0;31m---------------------------------------------------------------------------\u001b[0;32m\nNOTE: If your import is failing due to a missing package, you can\nmanually install dependencies using either !pip or !apt.\n\nTo view examples of installing some common dependencies, click the\n\"Open Examples\" button below.\n\u001b[0;31m---------------------------------------------------------------------------\u001b[0m\n"
          ],
          "errorDetails": {
            "actions": [
              {
                "action": "open_url",
                "actionText": "Open Examples",
                "url": "/notebooks/snippets/importing_libraries.ipynb"
              }
            ]
          }
        }
      ]
    },
    {
      "cell_type": "code",
      "source": [
        "xm=load_model('transmitter',device=device)\n",
        "model=load_model('text300M',device=device)\n",
        "diffusion=diffusion_from_config(load_config('diffusion'))"
      ],
      "metadata": {
        "colab": {
          "base_uri": "https://localhost:8080/",
          "height": 338,
          "referenced_widgets": [
            "a939eea296cf471092cbae0a823ec6aa",
            "5e61f64348e4409d80ef87f9a4bc4f8b",
            "6fc31c2574bb48d7af5083422496fe42",
            "f6672e8677a84259886d876308d6fa46",
            "e2ec92807095459facee820cd6f6cc17",
            "9d8dfa7d235b411f83893700f3c2738e",
            "c6da5d4454154f4694b561fe64647c9d",
            "4ce9594f7812492ea9b44913f00d05a1",
            "ee1f1b8538dc49f6b53b419a96d271e2",
            "f3835c6eba574ed8a4ce271064fb7551",
            "5ab42e6cb1634ab6a6b9efaae643044c",
            "34b668979b374d489e49d68f61107975",
            "14c79d29c3764439afbb296be6cb1110",
            "ab0148f741334d569c5858a9e79ea639",
            "8bf447006878446ca8999abcc295b619",
            "fe2de501f5ed4502869cd0e9f187c824",
            "0d369162f93a49c1b7ce336166ec8c73",
            "09988ac5e4834e919c0a45b2a769ca9b",
            "df0c550d5ae9406ea116dec851823336",
            "dc3819dd012d49e39e31e9fd37ebf790",
            "025876e9c1d34b9c9c194797e2aca9a2",
            "a645d152ca0c4bf9a2a36dab1c7e6c75"
          ]
        },
        "id": "FAzp_kGEOuqs",
        "outputId": "691d7389-dd62-4aed-bdca-16f149c3c43d"
      },
      "execution_count": 12,
      "outputs": [
        {
          "output_type": "stream",
          "name": "stderr",
          "text": [
            "/content/shap-e/shap_e/models/nn/checkpoint.py:31: FutureWarning: `torch.cuda.amp.custom_fwd(args...)` is deprecated. Please use `torch.amp.custom_fwd(args..., device_type='cuda')` instead.\n",
            "  @custom_fwd\n",
            "/content/shap-e/shap_e/models/nn/checkpoint.py:43: FutureWarning: `torch.cuda.amp.custom_bwd(args...)` is deprecated. Please use `torch.amp.custom_bwd(args..., device_type='cuda')` instead.\n",
            "  @custom_bwd\n",
            "/content/shap-e/shap_e/models/nn/checkpoint.py:61: FutureWarning: `torch.cuda.amp.custom_fwd(args...)` is deprecated. Please use `torch.amp.custom_fwd(args..., device_type='cuda')` instead.\n",
            "  @custom_fwd\n",
            "/content/shap-e/shap_e/models/nn/checkpoint.py:86: FutureWarning: `torch.cuda.amp.custom_bwd(args...)` is deprecated. Please use `torch.amp.custom_bwd(args..., device_type='cuda')` instead.\n",
            "  @custom_bwd\n"
          ]
        },
        {
          "output_type": "display_data",
          "data": {
            "text/plain": [
              "  0%|          | 0.00/1.78G [00:00<?, ?iB/s]"
            ],
            "application/vnd.jupyter.widget-view+json": {
              "version_major": 2,
              "version_minor": 0,
              "model_id": "a939eea296cf471092cbae0a823ec6aa"
            }
          },
          "metadata": {}
        },
        {
          "output_type": "stream",
          "name": "stderr",
          "text": [
            "/content/shap-e/shap_e/models/download.py:136: FutureWarning: You are using `torch.load` with `weights_only=False` (the current default value), which uses the default pickle module implicitly. It is possible to construct malicious pickle data which will execute arbitrary code during unpickling (See https://github.com/pytorch/pytorch/blob/main/SECURITY.md#untrusted-models for more details). In a future release, the default value for `weights_only` will be flipped to `True`. This limits the functions that could be executed during unpickling. Arbitrary objects will no longer be allowed to be loaded via this mode unless they are explicitly allowlisted by the user via `torch.serialization.add_safe_globals`. We recommend you start setting `weights_only=True` for any use case where you don't have full control of the loaded file. Please open an issue on GitHub for any issues related to this experimental feature.\n",
            "  return torch.load(path, map_location=device)\n",
            "100%|███████████████████████████████████████| 890M/890M [00:27<00:00, 33.3MiB/s]\n"
          ]
        },
        {
          "output_type": "display_data",
          "data": {
            "text/plain": [
              "  0%|          | 0.00/1.26G [00:00<?, ?iB/s]"
            ],
            "application/vnd.jupyter.widget-view+json": {
              "version_major": 2,
              "version_minor": 0,
              "model_id": "34b668979b374d489e49d68f61107975"
            }
          },
          "metadata": {}
        },
        {
          "output_type": "stream",
          "name": "stderr",
          "text": [
            "/content/shap-e/shap_e/models/download.py:136: FutureWarning: You are using `torch.load` with `weights_only=False` (the current default value), which uses the default pickle module implicitly. It is possible to construct malicious pickle data which will execute arbitrary code during unpickling (See https://github.com/pytorch/pytorch/blob/main/SECURITY.md#untrusted-models for more details). In a future release, the default value for `weights_only` will be flipped to `True`. This limits the functions that could be executed during unpickling. Arbitrary objects will no longer be allowed to be loaded via this mode unless they are explicitly allowlisted by the user via `torch.serialization.add_safe_globals`. We recommend you start setting `weights_only=True` for any use case where you don't have full control of the loaded file. Please open an issue on GitHub for any issues related to this experimental feature.\n",
            "  return torch.load(path, map_location=device)\n"
          ]
        }
      ]
    },
    {
      "cell_type": "code",
      "source": [],
      "metadata": {
        "id": "rq7gr37PV_6L"
      },
      "execution_count": null,
      "outputs": []
    },
    {
      "cell_type": "code",
      "source": [],
      "metadata": {
        "id": "E8L3o_OmV_8-"
      },
      "execution_count": null,
      "outputs": []
    },
    {
      "cell_type": "code",
      "source": [],
      "metadata": {
        "id": "vpJ1XOz1WAAV"
      },
      "execution_count": null,
      "outputs": []
    },
    {
      "cell_type": "code",
      "source": [
        "!pip uninstall clip -y\n"
      ],
      "metadata": {
        "colab": {
          "base_uri": "https://localhost:8080/"
        },
        "id": "YIiANsZsOuyF",
        "outputId": "29ccd7cb-9e90-4649-cbeb-d88f1cd90126"
      },
      "execution_count": 10,
      "outputs": [
        {
          "output_type": "stream",
          "name": "stdout",
          "text": [
            "\u001b[33mWARNING: Skipping clip as it is not installed.\u001b[0m\u001b[33m\n",
            "\u001b[0m"
          ]
        }
      ]
    },
    {
      "cell_type": "code",
      "source": [
        "!pip install ftfy regex tqdm\n",
        "!pip install --upgrade git+https://github.com/openai/CLIP.git\n"
      ],
      "metadata": {
        "colab": {
          "base_uri": "https://localhost:8080/"
        },
        "id": "cJuRDQNcRCes",
        "outputId": "79349d71-6043-4f14-856b-1b48b2486bb6"
      },
      "execution_count": 11,
      "outputs": [
        {
          "output_type": "stream",
          "name": "stdout",
          "text": [
            "Requirement already satisfied: ftfy in /usr/local/lib/python3.11/dist-packages (6.3.1)\n",
            "Requirement already satisfied: regex in /usr/local/lib/python3.11/dist-packages (2024.11.6)\n",
            "Requirement already satisfied: tqdm in /usr/local/lib/python3.11/dist-packages (4.67.1)\n",
            "Requirement already satisfied: wcwidth in /usr/local/lib/python3.11/dist-packages (from ftfy) (0.2.13)\n",
            "Collecting git+https://github.com/openai/CLIP.git\n",
            "  Cloning https://github.com/openai/CLIP.git to /tmp/pip-req-build-6fp50ayv\n",
            "  Running command git clone --filter=blob:none --quiet https://github.com/openai/CLIP.git /tmp/pip-req-build-6fp50ayv\n",
            "  Resolved https://github.com/openai/CLIP.git to commit dcba3cb2e2827b402d2701e7e1c7d9fed8a20ef1\n",
            "  Preparing metadata (setup.py) ... \u001b[?25l\u001b[?25hdone\n",
            "Requirement already satisfied: ftfy in /usr/local/lib/python3.11/dist-packages (from clip==1.0) (6.3.1)\n",
            "Requirement already satisfied: packaging in /usr/local/lib/python3.11/dist-packages (from clip==1.0) (24.2)\n",
            "Requirement already satisfied: regex in /usr/local/lib/python3.11/dist-packages (from clip==1.0) (2024.11.6)\n",
            "Requirement already satisfied: tqdm in /usr/local/lib/python3.11/dist-packages (from clip==1.0) (4.67.1)\n",
            "Requirement already satisfied: torch in /usr/local/lib/python3.11/dist-packages (from clip==1.0) (2.5.1+cu124)\n",
            "Requirement already satisfied: torchvision in /usr/local/lib/python3.11/dist-packages (from clip==1.0) (0.20.1+cu124)\n",
            "Requirement already satisfied: wcwidth in /usr/local/lib/python3.11/dist-packages (from ftfy->clip==1.0) (0.2.13)\n",
            "Requirement already satisfied: filelock in /usr/local/lib/python3.11/dist-packages (from torch->clip==1.0) (3.17.0)\n",
            "Requirement already satisfied: typing-extensions>=4.8.0 in /usr/local/lib/python3.11/dist-packages (from torch->clip==1.0) (4.12.2)\n",
            "Requirement already satisfied: networkx in /usr/local/lib/python3.11/dist-packages (from torch->clip==1.0) (3.4.2)\n",
            "Requirement already satisfied: jinja2 in /usr/local/lib/python3.11/dist-packages (from torch->clip==1.0) (3.1.5)\n",
            "Requirement already satisfied: fsspec in /usr/local/lib/python3.11/dist-packages (from torch->clip==1.0) (2024.10.0)\n",
            "Requirement already satisfied: nvidia-cuda-nvrtc-cu12==12.4.127 in /usr/local/lib/python3.11/dist-packages (from torch->clip==1.0) (12.4.127)\n",
            "Requirement already satisfied: nvidia-cuda-runtime-cu12==12.4.127 in /usr/local/lib/python3.11/dist-packages (from torch->clip==1.0) (12.4.127)\n",
            "Requirement already satisfied: nvidia-cuda-cupti-cu12==12.4.127 in /usr/local/lib/python3.11/dist-packages (from torch->clip==1.0) (12.4.127)\n",
            "Requirement already satisfied: nvidia-cudnn-cu12==9.1.0.70 in /usr/local/lib/python3.11/dist-packages (from torch->clip==1.0) (9.1.0.70)\n",
            "Requirement already satisfied: nvidia-cublas-cu12==12.4.5.8 in /usr/local/lib/python3.11/dist-packages (from torch->clip==1.0) (12.4.5.8)\n",
            "Requirement already satisfied: nvidia-cufft-cu12==11.2.1.3 in /usr/local/lib/python3.11/dist-packages (from torch->clip==1.0) (11.2.1.3)\n",
            "Requirement already satisfied: nvidia-curand-cu12==10.3.5.147 in /usr/local/lib/python3.11/dist-packages (from torch->clip==1.0) (10.3.5.147)\n",
            "Requirement already satisfied: nvidia-cusolver-cu12==11.6.1.9 in /usr/local/lib/python3.11/dist-packages (from torch->clip==1.0) (11.6.1.9)\n",
            "Requirement already satisfied: nvidia-cusparse-cu12==12.3.1.170 in /usr/local/lib/python3.11/dist-packages (from torch->clip==1.0) (12.3.1.170)\n",
            "Requirement already satisfied: nvidia-nccl-cu12==2.21.5 in /usr/local/lib/python3.11/dist-packages (from torch->clip==1.0) (2.21.5)\n",
            "Requirement already satisfied: nvidia-nvtx-cu12==12.4.127 in /usr/local/lib/python3.11/dist-packages (from torch->clip==1.0) (12.4.127)\n",
            "Requirement already satisfied: nvidia-nvjitlink-cu12==12.4.127 in /usr/local/lib/python3.11/dist-packages (from torch->clip==1.0) (12.4.127)\n",
            "Requirement already satisfied: triton==3.1.0 in /usr/local/lib/python3.11/dist-packages (from torch->clip==1.0) (3.1.0)\n",
            "Requirement already satisfied: sympy==1.13.1 in /usr/local/lib/python3.11/dist-packages (from torch->clip==1.0) (1.13.1)\n",
            "Requirement already satisfied: mpmath<1.4,>=1.1.0 in /usr/local/lib/python3.11/dist-packages (from sympy==1.13.1->torch->clip==1.0) (1.3.0)\n",
            "Requirement already satisfied: numpy in /usr/local/lib/python3.11/dist-packages (from torchvision->clip==1.0) (1.26.4)\n",
            "Requirement already satisfied: pillow!=8.3.*,>=5.3.0 in /usr/local/lib/python3.11/dist-packages (from torchvision->clip==1.0) (11.1.0)\n",
            "Requirement already satisfied: MarkupSafe>=2.0 in /usr/local/lib/python3.11/dist-packages (from jinja2->torch->clip==1.0) (3.0.2)\n",
            "Building wheels for collected packages: clip\n",
            "  Building wheel for clip (setup.py) ... \u001b[?25l\u001b[?25hdone\n",
            "  Created wheel for clip: filename=clip-1.0-py3-none-any.whl size=1369489 sha256=1df4f353cead842bf0221781cae89f6856a3450fda0472852eeda341b65526ff\n",
            "  Stored in directory: /tmp/pip-ephem-wheel-cache-4mpumvys/wheels/3f/7c/a4/9b490845988bf7a4db33674d52f709f088f64392063872eb9a\n",
            "Successfully built clip\n",
            "Installing collected packages: clip\n",
            "Successfully installed clip-1.0\n"
          ]
        }
      ]
    },
    {
      "cell_type": "code",
      "source": [
        "import clip\n"
      ],
      "metadata": {
        "id": "DsUTvbPwRGaV"
      },
      "execution_count": 1,
      "outputs": []
    },
    {
      "cell_type": "code",
      "source": [
        "from re import U\n",
        "batch_size=4\n",
        "guidance_scale=15.0\n",
        "prompt=\"a shark\"\n",
        "\n",
        "latents=sample_latents(\n",
        "    batch_size=batch_size,\n",
        "    model=model,\n",
        "    diffusion=diffusion,\n",
        "    guidance_scale=guidance_scale,\n",
        "    model_kwargs=dict(texts=[prompt]*batch_size),\n",
        "    progress=True,\n",
        "    clip_denoised=True,\n",
        "    use_fp16=True,\n",
        "    use_karras=True,\n",
        "    karras_steps=64,\n",
        "    sigma_min=1e-3,\n",
        "    sigma_max=160,\n",
        "    s_churn=0,\n",
        ")\n"
      ],
      "metadata": {
        "colab": {
          "base_uri": "https://localhost:8080/",
          "height": 49,
          "referenced_widgets": [
            "3d9b29ad45ca4385b31b6af60c692c67",
            "7eaedd67209c404a937786da1f0f626f",
            "4fb66d6c7be3427aaea683c7ef75fc8b",
            "8ef54e54a82c4bfb8b1a6d1639004366",
            "182d90415b3c4844b967efa8b9fe9317",
            "d43718fdf1b648cca1548cf9d77284b8",
            "998486ad35a744d798608585463df2a2",
            "e7c02c21fb8b413786a74864d8522ef2",
            "652955abc6e34e9e919158f20b7fc067",
            "e5982f1095754d058837a74cdcf33dad",
            "a6ffa31258b546c49f038910d108b3d6"
          ]
        },
        "id": "KGiOkNe4WCsR",
        "outputId": "8bb019b4-af6a-4563-e711-1c04084601d1"
      },
      "execution_count": 13,
      "outputs": [
        {
          "output_type": "display_data",
          "data": {
            "text/plain": [
              "  0%|          | 0/64 [00:00<?, ?it/s]"
            ],
            "application/vnd.jupyter.widget-view+json": {
              "version_major": 2,
              "version_minor": 0,
              "model_id": "3d9b29ad45ca4385b31b6af60c692c67"
            }
          },
          "metadata": {}
        }
      ]
    },
    {
      "cell_type": "code",
      "source": [
        "render_mode = 'nerf' # you can change this to 'stf'\n",
        "size = 64 # this is the size of the renders; higher values take longer to render.\n",
        "\n",
        "cameras = create_pan_cameras(size, device)\n",
        "for i, latent in enumerate(latents):\n",
        "    images = decode_latent_images(xm, latent, cameras, rendering_mode=render_mode)\n",
        "    display(gif_widget(images))"
      ],
      "metadata": {
        "colab": {
          "base_uri": "https://localhost:8080/",
          "height": 321,
          "referenced_widgets": [
            "618fdfb37c2e4e17bcf7377c4e74fb36",
            "0d00f4b95b874721adf89e8b2f13f35f",
            "59d412c49a4f43e0bd13d9446583a41f",
            "22f28d9f0b054c7ab25e3debf1342eea",
            "6637c7727b2948b4b35ae01c96b3a17e",
            "27a0e87c8ca244eab59e31a425d69bfe",
            "de7de18467e846a9be8845b8e1e22ca7",
            "2b5d0c86d6da4178a0fe47f6e2883688",
            "1e6e5b284f6f4b978ff1ae99edf03a2a",
            "b013040982f540749765136f2b5f598c",
            "a74a07c4db464b2c9348d1b25d6a0ec2",
            "6590577a8f6c490ea9c8882824ff6d6d"
          ]
        },
        "id": "oxLfPLezWCvD",
        "outputId": "4339cb36-8725-4da4-cde5-fbbb485c7a4e"
      },
      "execution_count": 14,
      "outputs": [
        {
          "output_type": "display_data",
          "data": {
            "text/plain": [
              "HTML(value='<img src=\"data:image/gif;base64,R0lGODlhQABAAIcAAPj4+fb49/T19vP19fP09vHy8uvu7Ovt7eTo7OTo6uXo6OHn5N…"
            ],
            "application/vnd.jupyter.widget-view+json": {
              "version_major": 2,
              "version_minor": 0,
              "model_id": "618fdfb37c2e4e17bcf7377c4e74fb36"
            }
          },
          "metadata": {}
        },
        {
          "output_type": "display_data",
          "data": {
            "text/plain": [
              "HTML(value='<img src=\"data:image/gif;base64,R0lGODlhQABAAIYAAH+stHqjql+TnF2TmE6Ahkd5hj10gj1zgDloejVldy5hcS5gcC…"
            ],
            "application/vnd.jupyter.widget-view+json": {
              "version_major": 2,
              "version_minor": 0,
              "model_id": "22f28d9f0b054c7ab25e3debf1342eea"
            }
          },
          "metadata": {}
        },
        {
          "output_type": "display_data",
          "data": {
            "text/plain": [
              "HTML(value='<img src=\"data:image/gif;base64,R0lGODlhQABAAIcAAIjV4YLBzIS8xny5wmmvtWymsFSWoU+VoDyHk06EllN/hkaDmU…"
            ],
            "application/vnd.jupyter.widget-view+json": {
              "version_major": 2,
              "version_minor": 0,
              "model_id": "de7de18467e846a9be8845b8e1e22ca7"
            }
          },
          "metadata": {}
        },
        {
          "output_type": "display_data",
          "data": {
            "text/plain": [
              "HTML(value='<img src=\"data:image/gif;base64,R0lGODlhQABAAIcAAL3EybLAxbGzuauwtoW3vJCwtnywtHWssnqorVCdpmqVnkmLmy…"
            ],
            "application/vnd.jupyter.widget-view+json": {
              "version_major": 2,
              "version_minor": 0,
              "model_id": "b013040982f540749765136f2b5f598c"
            }
          },
          "metadata": {}
        }
      ]
    },
    {
      "cell_type": "code",
      "source": [
        "# Example of saving the latents as meshes.\n",
        "from shap_e.util.notebooks import decode_latent_mesh\n",
        "\n",
        "for i, latent in enumerate(latents):\n",
        "    t = decode_latent_mesh(xm, latent).tri_mesh()\n",
        "    with open(f'example_mesh_{i}.ply', 'wb') as f:\n",
        "        t.write_ply(f)\n",
        "    with open(f'example_mesh_{i}.obj', 'w') as f:\n",
        "        t.write_obj(f)"
      ],
      "metadata": {
        "colab": {
          "base_uri": "https://localhost:8080/"
        },
        "id": "FuTpLVzvWCxY",
        "outputId": "65086bd4-72cc-4007-96ce-86cbf2672dc9"
      },
      "execution_count": 15,
      "outputs": [
        {
          "output_type": "stream",
          "name": "stderr",
          "text": [
            "/content/shap-e/shap_e/models/stf/renderer.py:286: UserWarning: exception rendering with PyTorch3D: No module named 'pytorch3d'\n",
            "  warnings.warn(f\"exception rendering with PyTorch3D: {exc}\")\n",
            "/content/shap-e/shap_e/models/stf/renderer.py:287: UserWarning: falling back on native PyTorch renderer, which does not support full gradients\n",
            "  warnings.warn(\n"
          ]
        }
      ]
    },
    {
      "cell_type": "code",
      "source": [],
      "metadata": {
        "id": "2UnDqFhOWC08"
      },
      "execution_count": null,
      "outputs": []
    }
  ],
  "metadata": {
    "colab": {
      "provenance": [],
      "gpuType": "T4"
    },
    "kernelspec": {
      "display_name": "Python 3",
      "name": "python3"
    },
    "language_info": {
      "name": "python"
    },
    "widgets": {
      "application/vnd.jupyter.widget-state+json": {
        "a939eea296cf471092cbae0a823ec6aa": {
          "model_module": "@jupyter-widgets/controls",
          "model_name": "HBoxModel",
          "model_module_version": "1.5.0",
          "state": {
            "_dom_classes": [],
            "_model_module": "@jupyter-widgets/controls",
            "_model_module_version": "1.5.0",
            "_model_name": "HBoxModel",
            "_view_count": null,
            "_view_module": "@jupyter-widgets/controls",
            "_view_module_version": "1.5.0",
            "_view_name": "HBoxView",
            "box_style": "",
            "children": [
              "IPY_MODEL_5e61f64348e4409d80ef87f9a4bc4f8b",
              "IPY_MODEL_6fc31c2574bb48d7af5083422496fe42",
              "IPY_MODEL_f6672e8677a84259886d876308d6fa46"
            ],
            "layout": "IPY_MODEL_e2ec92807095459facee820cd6f6cc17"
          }
        },
        "5e61f64348e4409d80ef87f9a4bc4f8b": {
          "model_module": "@jupyter-widgets/controls",
          "model_name": "HTMLModel",
          "model_module_version": "1.5.0",
          "state": {
            "_dom_classes": [],
            "_model_module": "@jupyter-widgets/controls",
            "_model_module_version": "1.5.0",
            "_model_name": "HTMLModel",
            "_view_count": null,
            "_view_module": "@jupyter-widgets/controls",
            "_view_module_version": "1.5.0",
            "_view_name": "HTMLView",
            "description": "",
            "description_tooltip": null,
            "layout": "IPY_MODEL_9d8dfa7d235b411f83893700f3c2738e",
            "placeholder": "​",
            "style": "IPY_MODEL_c6da5d4454154f4694b561fe64647c9d",
            "value": "100%"
          }
        },
        "6fc31c2574bb48d7af5083422496fe42": {
          "model_module": "@jupyter-widgets/controls",
          "model_name": "FloatProgressModel",
          "model_module_version": "1.5.0",
          "state": {
            "_dom_classes": [],
            "_model_module": "@jupyter-widgets/controls",
            "_model_module_version": "1.5.0",
            "_model_name": "FloatProgressModel",
            "_view_count": null,
            "_view_module": "@jupyter-widgets/controls",
            "_view_module_version": "1.5.0",
            "_view_name": "ProgressView",
            "bar_style": "success",
            "description": "",
            "description_tooltip": null,
            "layout": "IPY_MODEL_4ce9594f7812492ea9b44913f00d05a1",
            "max": 1776048343,
            "min": 0,
            "orientation": "horizontal",
            "style": "IPY_MODEL_ee1f1b8538dc49f6b53b419a96d271e2",
            "value": 1776048343
          }
        },
        "f6672e8677a84259886d876308d6fa46": {
          "model_module": "@jupyter-widgets/controls",
          "model_name": "HTMLModel",
          "model_module_version": "1.5.0",
          "state": {
            "_dom_classes": [],
            "_model_module": "@jupyter-widgets/controls",
            "_model_module_version": "1.5.0",
            "_model_name": "HTMLModel",
            "_view_count": null,
            "_view_module": "@jupyter-widgets/controls",
            "_view_module_version": "1.5.0",
            "_view_name": "HTMLView",
            "description": "",
            "description_tooltip": null,
            "layout": "IPY_MODEL_f3835c6eba574ed8a4ce271064fb7551",
            "placeholder": "​",
            "style": "IPY_MODEL_5ab42e6cb1634ab6a6b9efaae643044c",
            "value": " 1.78G/1.78G [02:17&lt;00:00, 18.7MiB/s]"
          }
        },
        "e2ec92807095459facee820cd6f6cc17": {
          "model_module": "@jupyter-widgets/base",
          "model_name": "LayoutModel",
          "model_module_version": "1.2.0",
          "state": {
            "_model_module": "@jupyter-widgets/base",
            "_model_module_version": "1.2.0",
            "_model_name": "LayoutModel",
            "_view_count": null,
            "_view_module": "@jupyter-widgets/base",
            "_view_module_version": "1.2.0",
            "_view_name": "LayoutView",
            "align_content": null,
            "align_items": null,
            "align_self": null,
            "border": null,
            "bottom": null,
            "display": null,
            "flex": null,
            "flex_flow": null,
            "grid_area": null,
            "grid_auto_columns": null,
            "grid_auto_flow": null,
            "grid_auto_rows": null,
            "grid_column": null,
            "grid_gap": null,
            "grid_row": null,
            "grid_template_areas": null,
            "grid_template_columns": null,
            "grid_template_rows": null,
            "height": null,
            "justify_content": null,
            "justify_items": null,
            "left": null,
            "margin": null,
            "max_height": null,
            "max_width": null,
            "min_height": null,
            "min_width": null,
            "object_fit": null,
            "object_position": null,
            "order": null,
            "overflow": null,
            "overflow_x": null,
            "overflow_y": null,
            "padding": null,
            "right": null,
            "top": null,
            "visibility": null,
            "width": null
          }
        },
        "9d8dfa7d235b411f83893700f3c2738e": {
          "model_module": "@jupyter-widgets/base",
          "model_name": "LayoutModel",
          "model_module_version": "1.2.0",
          "state": {
            "_model_module": "@jupyter-widgets/base",
            "_model_module_version": "1.2.0",
            "_model_name": "LayoutModel",
            "_view_count": null,
            "_view_module": "@jupyter-widgets/base",
            "_view_module_version": "1.2.0",
            "_view_name": "LayoutView",
            "align_content": null,
            "align_items": null,
            "align_self": null,
            "border": null,
            "bottom": null,
            "display": null,
            "flex": null,
            "flex_flow": null,
            "grid_area": null,
            "grid_auto_columns": null,
            "grid_auto_flow": null,
            "grid_auto_rows": null,
            "grid_column": null,
            "grid_gap": null,
            "grid_row": null,
            "grid_template_areas": null,
            "grid_template_columns": null,
            "grid_template_rows": null,
            "height": null,
            "justify_content": null,
            "justify_items": null,
            "left": null,
            "margin": null,
            "max_height": null,
            "max_width": null,
            "min_height": null,
            "min_width": null,
            "object_fit": null,
            "object_position": null,
            "order": null,
            "overflow": null,
            "overflow_x": null,
            "overflow_y": null,
            "padding": null,
            "right": null,
            "top": null,
            "visibility": null,
            "width": null
          }
        },
        "c6da5d4454154f4694b561fe64647c9d": {
          "model_module": "@jupyter-widgets/controls",
          "model_name": "DescriptionStyleModel",
          "model_module_version": "1.5.0",
          "state": {
            "_model_module": "@jupyter-widgets/controls",
            "_model_module_version": "1.5.0",
            "_model_name": "DescriptionStyleModel",
            "_view_count": null,
            "_view_module": "@jupyter-widgets/base",
            "_view_module_version": "1.2.0",
            "_view_name": "StyleView",
            "description_width": ""
          }
        },
        "4ce9594f7812492ea9b44913f00d05a1": {
          "model_module": "@jupyter-widgets/base",
          "model_name": "LayoutModel",
          "model_module_version": "1.2.0",
          "state": {
            "_model_module": "@jupyter-widgets/base",
            "_model_module_version": "1.2.0",
            "_model_name": "LayoutModel",
            "_view_count": null,
            "_view_module": "@jupyter-widgets/base",
            "_view_module_version": "1.2.0",
            "_view_name": "LayoutView",
            "align_content": null,
            "align_items": null,
            "align_self": null,
            "border": null,
            "bottom": null,
            "display": null,
            "flex": null,
            "flex_flow": null,
            "grid_area": null,
            "grid_auto_columns": null,
            "grid_auto_flow": null,
            "grid_auto_rows": null,
            "grid_column": null,
            "grid_gap": null,
            "grid_row": null,
            "grid_template_areas": null,
            "grid_template_columns": null,
            "grid_template_rows": null,
            "height": null,
            "justify_content": null,
            "justify_items": null,
            "left": null,
            "margin": null,
            "max_height": null,
            "max_width": null,
            "min_height": null,
            "min_width": null,
            "object_fit": null,
            "object_position": null,
            "order": null,
            "overflow": null,
            "overflow_x": null,
            "overflow_y": null,
            "padding": null,
            "right": null,
            "top": null,
            "visibility": null,
            "width": null
          }
        },
        "ee1f1b8538dc49f6b53b419a96d271e2": {
          "model_module": "@jupyter-widgets/controls",
          "model_name": "ProgressStyleModel",
          "model_module_version": "1.5.0",
          "state": {
            "_model_module": "@jupyter-widgets/controls",
            "_model_module_version": "1.5.0",
            "_model_name": "ProgressStyleModel",
            "_view_count": null,
            "_view_module": "@jupyter-widgets/base",
            "_view_module_version": "1.2.0",
            "_view_name": "StyleView",
            "bar_color": null,
            "description_width": ""
          }
        },
        "f3835c6eba574ed8a4ce271064fb7551": {
          "model_module": "@jupyter-widgets/base",
          "model_name": "LayoutModel",
          "model_module_version": "1.2.0",
          "state": {
            "_model_module": "@jupyter-widgets/base",
            "_model_module_version": "1.2.0",
            "_model_name": "LayoutModel",
            "_view_count": null,
            "_view_module": "@jupyter-widgets/base",
            "_view_module_version": "1.2.0",
            "_view_name": "LayoutView",
            "align_content": null,
            "align_items": null,
            "align_self": null,
            "border": null,
            "bottom": null,
            "display": null,
            "flex": null,
            "flex_flow": null,
            "grid_area": null,
            "grid_auto_columns": null,
            "grid_auto_flow": null,
            "grid_auto_rows": null,
            "grid_column": null,
            "grid_gap": null,
            "grid_row": null,
            "grid_template_areas": null,
            "grid_template_columns": null,
            "grid_template_rows": null,
            "height": null,
            "justify_content": null,
            "justify_items": null,
            "left": null,
            "margin": null,
            "max_height": null,
            "max_width": null,
            "min_height": null,
            "min_width": null,
            "object_fit": null,
            "object_position": null,
            "order": null,
            "overflow": null,
            "overflow_x": null,
            "overflow_y": null,
            "padding": null,
            "right": null,
            "top": null,
            "visibility": null,
            "width": null
          }
        },
        "5ab42e6cb1634ab6a6b9efaae643044c": {
          "model_module": "@jupyter-widgets/controls",
          "model_name": "DescriptionStyleModel",
          "model_module_version": "1.5.0",
          "state": {
            "_model_module": "@jupyter-widgets/controls",
            "_model_module_version": "1.5.0",
            "_model_name": "DescriptionStyleModel",
            "_view_count": null,
            "_view_module": "@jupyter-widgets/base",
            "_view_module_version": "1.2.0",
            "_view_name": "StyleView",
            "description_width": ""
          }
        },
        "34b668979b374d489e49d68f61107975": {
          "model_module": "@jupyter-widgets/controls",
          "model_name": "HBoxModel",
          "model_module_version": "1.5.0",
          "state": {
            "_dom_classes": [],
            "_model_module": "@jupyter-widgets/controls",
            "_model_module_version": "1.5.0",
            "_model_name": "HBoxModel",
            "_view_count": null,
            "_view_module": "@jupyter-widgets/controls",
            "_view_module_version": "1.5.0",
            "_view_name": "HBoxView",
            "box_style": "",
            "children": [
              "IPY_MODEL_14c79d29c3764439afbb296be6cb1110",
              "IPY_MODEL_ab0148f741334d569c5858a9e79ea639",
              "IPY_MODEL_8bf447006878446ca8999abcc295b619"
            ],
            "layout": "IPY_MODEL_fe2de501f5ed4502869cd0e9f187c824"
          }
        },
        "14c79d29c3764439afbb296be6cb1110": {
          "model_module": "@jupyter-widgets/controls",
          "model_name": "HTMLModel",
          "model_module_version": "1.5.0",
          "state": {
            "_dom_classes": [],
            "_model_module": "@jupyter-widgets/controls",
            "_model_module_version": "1.5.0",
            "_model_name": "HTMLModel",
            "_view_count": null,
            "_view_module": "@jupyter-widgets/controls",
            "_view_module_version": "1.5.0",
            "_view_name": "HTMLView",
            "description": "",
            "description_tooltip": null,
            "layout": "IPY_MODEL_0d369162f93a49c1b7ce336166ec8c73",
            "placeholder": "​",
            "style": "IPY_MODEL_09988ac5e4834e919c0a45b2a769ca9b",
            "value": "100%"
          }
        },
        "ab0148f741334d569c5858a9e79ea639": {
          "model_module": "@jupyter-widgets/controls",
          "model_name": "FloatProgressModel",
          "model_module_version": "1.5.0",
          "state": {
            "_dom_classes": [],
            "_model_module": "@jupyter-widgets/controls",
            "_model_module_version": "1.5.0",
            "_model_name": "FloatProgressModel",
            "_view_count": null,
            "_view_module": "@jupyter-widgets/controls",
            "_view_module_version": "1.5.0",
            "_view_name": "ProgressView",
            "bar_style": "success",
            "description": "",
            "description_tooltip": null,
            "layout": "IPY_MODEL_df0c550d5ae9406ea116dec851823336",
            "max": 1262868003,
            "min": 0,
            "orientation": "horizontal",
            "style": "IPY_MODEL_dc3819dd012d49e39e31e9fd37ebf790",
            "value": 1262868003
          }
        },
        "8bf447006878446ca8999abcc295b619": {
          "model_module": "@jupyter-widgets/controls",
          "model_name": "HTMLModel",
          "model_module_version": "1.5.0",
          "state": {
            "_dom_classes": [],
            "_model_module": "@jupyter-widgets/controls",
            "_model_module_version": "1.5.0",
            "_model_name": "HTMLModel",
            "_view_count": null,
            "_view_module": "@jupyter-widgets/controls",
            "_view_module_version": "1.5.0",
            "_view_name": "HTMLView",
            "description": "",
            "description_tooltip": null,
            "layout": "IPY_MODEL_025876e9c1d34b9c9c194797e2aca9a2",
            "placeholder": "​",
            "style": "IPY_MODEL_a645d152ca0c4bf9a2a36dab1c7e6c75",
            "value": " 1.26G/1.26G [02:28&lt;00:00, 9.56MiB/s]"
          }
        },
        "fe2de501f5ed4502869cd0e9f187c824": {
          "model_module": "@jupyter-widgets/base",
          "model_name": "LayoutModel",
          "model_module_version": "1.2.0",
          "state": {
            "_model_module": "@jupyter-widgets/base",
            "_model_module_version": "1.2.0",
            "_model_name": "LayoutModel",
            "_view_count": null,
            "_view_module": "@jupyter-widgets/base",
            "_view_module_version": "1.2.0",
            "_view_name": "LayoutView",
            "align_content": null,
            "align_items": null,
            "align_self": null,
            "border": null,
            "bottom": null,
            "display": null,
            "flex": null,
            "flex_flow": null,
            "grid_area": null,
            "grid_auto_columns": null,
            "grid_auto_flow": null,
            "grid_auto_rows": null,
            "grid_column": null,
            "grid_gap": null,
            "grid_row": null,
            "grid_template_areas": null,
            "grid_template_columns": null,
            "grid_template_rows": null,
            "height": null,
            "justify_content": null,
            "justify_items": null,
            "left": null,
            "margin": null,
            "max_height": null,
            "max_width": null,
            "min_height": null,
            "min_width": null,
            "object_fit": null,
            "object_position": null,
            "order": null,
            "overflow": null,
            "overflow_x": null,
            "overflow_y": null,
            "padding": null,
            "right": null,
            "top": null,
            "visibility": null,
            "width": null
          }
        },
        "0d369162f93a49c1b7ce336166ec8c73": {
          "model_module": "@jupyter-widgets/base",
          "model_name": "LayoutModel",
          "model_module_version": "1.2.0",
          "state": {
            "_model_module": "@jupyter-widgets/base",
            "_model_module_version": "1.2.0",
            "_model_name": "LayoutModel",
            "_view_count": null,
            "_view_module": "@jupyter-widgets/base",
            "_view_module_version": "1.2.0",
            "_view_name": "LayoutView",
            "align_content": null,
            "align_items": null,
            "align_self": null,
            "border": null,
            "bottom": null,
            "display": null,
            "flex": null,
            "flex_flow": null,
            "grid_area": null,
            "grid_auto_columns": null,
            "grid_auto_flow": null,
            "grid_auto_rows": null,
            "grid_column": null,
            "grid_gap": null,
            "grid_row": null,
            "grid_template_areas": null,
            "grid_template_columns": null,
            "grid_template_rows": null,
            "height": null,
            "justify_content": null,
            "justify_items": null,
            "left": null,
            "margin": null,
            "max_height": null,
            "max_width": null,
            "min_height": null,
            "min_width": null,
            "object_fit": null,
            "object_position": null,
            "order": null,
            "overflow": null,
            "overflow_x": null,
            "overflow_y": null,
            "padding": null,
            "right": null,
            "top": null,
            "visibility": null,
            "width": null
          }
        },
        "09988ac5e4834e919c0a45b2a769ca9b": {
          "model_module": "@jupyter-widgets/controls",
          "model_name": "DescriptionStyleModel",
          "model_module_version": "1.5.0",
          "state": {
            "_model_module": "@jupyter-widgets/controls",
            "_model_module_version": "1.5.0",
            "_model_name": "DescriptionStyleModel",
            "_view_count": null,
            "_view_module": "@jupyter-widgets/base",
            "_view_module_version": "1.2.0",
            "_view_name": "StyleView",
            "description_width": ""
          }
        },
        "df0c550d5ae9406ea116dec851823336": {
          "model_module": "@jupyter-widgets/base",
          "model_name": "LayoutModel",
          "model_module_version": "1.2.0",
          "state": {
            "_model_module": "@jupyter-widgets/base",
            "_model_module_version": "1.2.0",
            "_model_name": "LayoutModel",
            "_view_count": null,
            "_view_module": "@jupyter-widgets/base",
            "_view_module_version": "1.2.0",
            "_view_name": "LayoutView",
            "align_content": null,
            "align_items": null,
            "align_self": null,
            "border": null,
            "bottom": null,
            "display": null,
            "flex": null,
            "flex_flow": null,
            "grid_area": null,
            "grid_auto_columns": null,
            "grid_auto_flow": null,
            "grid_auto_rows": null,
            "grid_column": null,
            "grid_gap": null,
            "grid_row": null,
            "grid_template_areas": null,
            "grid_template_columns": null,
            "grid_template_rows": null,
            "height": null,
            "justify_content": null,
            "justify_items": null,
            "left": null,
            "margin": null,
            "max_height": null,
            "max_width": null,
            "min_height": null,
            "min_width": null,
            "object_fit": null,
            "object_position": null,
            "order": null,
            "overflow": null,
            "overflow_x": null,
            "overflow_y": null,
            "padding": null,
            "right": null,
            "top": null,
            "visibility": null,
            "width": null
          }
        },
        "dc3819dd012d49e39e31e9fd37ebf790": {
          "model_module": "@jupyter-widgets/controls",
          "model_name": "ProgressStyleModel",
          "model_module_version": "1.5.0",
          "state": {
            "_model_module": "@jupyter-widgets/controls",
            "_model_module_version": "1.5.0",
            "_model_name": "ProgressStyleModel",
            "_view_count": null,
            "_view_module": "@jupyter-widgets/base",
            "_view_module_version": "1.2.0",
            "_view_name": "StyleView",
            "bar_color": null,
            "description_width": ""
          }
        },
        "025876e9c1d34b9c9c194797e2aca9a2": {
          "model_module": "@jupyter-widgets/base",
          "model_name": "LayoutModel",
          "model_module_version": "1.2.0",
          "state": {
            "_model_module": "@jupyter-widgets/base",
            "_model_module_version": "1.2.0",
            "_model_name": "LayoutModel",
            "_view_count": null,
            "_view_module": "@jupyter-widgets/base",
            "_view_module_version": "1.2.0",
            "_view_name": "LayoutView",
            "align_content": null,
            "align_items": null,
            "align_self": null,
            "border": null,
            "bottom": null,
            "display": null,
            "flex": null,
            "flex_flow": null,
            "grid_area": null,
            "grid_auto_columns": null,
            "grid_auto_flow": null,
            "grid_auto_rows": null,
            "grid_column": null,
            "grid_gap": null,
            "grid_row": null,
            "grid_template_areas": null,
            "grid_template_columns": null,
            "grid_template_rows": null,
            "height": null,
            "justify_content": null,
            "justify_items": null,
            "left": null,
            "margin": null,
            "max_height": null,
            "max_width": null,
            "min_height": null,
            "min_width": null,
            "object_fit": null,
            "object_position": null,
            "order": null,
            "overflow": null,
            "overflow_x": null,
            "overflow_y": null,
            "padding": null,
            "right": null,
            "top": null,
            "visibility": null,
            "width": null
          }
        },
        "a645d152ca0c4bf9a2a36dab1c7e6c75": {
          "model_module": "@jupyter-widgets/controls",
          "model_name": "DescriptionStyleModel",
          "model_module_version": "1.5.0",
          "state": {
            "_model_module": "@jupyter-widgets/controls",
            "_model_module_version": "1.5.0",
            "_model_name": "DescriptionStyleModel",
            "_view_count": null,
            "_view_module": "@jupyter-widgets/base",
            "_view_module_version": "1.2.0",
            "_view_name": "StyleView",
            "description_width": ""
          }
        },
        "3d9b29ad45ca4385b31b6af60c692c67": {
          "model_module": "@jupyter-widgets/controls",
          "model_name": "HBoxModel",
          "model_module_version": "1.5.0",
          "state": {
            "_dom_classes": [],
            "_model_module": "@jupyter-widgets/controls",
            "_model_module_version": "1.5.0",
            "_model_name": "HBoxModel",
            "_view_count": null,
            "_view_module": "@jupyter-widgets/controls",
            "_view_module_version": "1.5.0",
            "_view_name": "HBoxView",
            "box_style": "",
            "children": [
              "IPY_MODEL_7eaedd67209c404a937786da1f0f626f",
              "IPY_MODEL_4fb66d6c7be3427aaea683c7ef75fc8b",
              "IPY_MODEL_8ef54e54a82c4bfb8b1a6d1639004366"
            ],
            "layout": "IPY_MODEL_182d90415b3c4844b967efa8b9fe9317"
          }
        },
        "7eaedd67209c404a937786da1f0f626f": {
          "model_module": "@jupyter-widgets/controls",
          "model_name": "HTMLModel",
          "model_module_version": "1.5.0",
          "state": {
            "_dom_classes": [],
            "_model_module": "@jupyter-widgets/controls",
            "_model_module_version": "1.5.0",
            "_model_name": "HTMLModel",
            "_view_count": null,
            "_view_module": "@jupyter-widgets/controls",
            "_view_module_version": "1.5.0",
            "_view_name": "HTMLView",
            "description": "",
            "description_tooltip": null,
            "layout": "IPY_MODEL_d43718fdf1b648cca1548cf9d77284b8",
            "placeholder": "​",
            "style": "IPY_MODEL_998486ad35a744d798608585463df2a2",
            "value": "100%"
          }
        },
        "4fb66d6c7be3427aaea683c7ef75fc8b": {
          "model_module": "@jupyter-widgets/controls",
          "model_name": "FloatProgressModel",
          "model_module_version": "1.5.0",
          "state": {
            "_dom_classes": [],
            "_model_module": "@jupyter-widgets/controls",
            "_model_module_version": "1.5.0",
            "_model_name": "FloatProgressModel",
            "_view_count": null,
            "_view_module": "@jupyter-widgets/controls",
            "_view_module_version": "1.5.0",
            "_view_name": "ProgressView",
            "bar_style": "success",
            "description": "",
            "description_tooltip": null,
            "layout": "IPY_MODEL_e7c02c21fb8b413786a74864d8522ef2",
            "max": 64,
            "min": 0,
            "orientation": "horizontal",
            "style": "IPY_MODEL_652955abc6e34e9e919158f20b7fc067",
            "value": 64
          }
        },
        "8ef54e54a82c4bfb8b1a6d1639004366": {
          "model_module": "@jupyter-widgets/controls",
          "model_name": "HTMLModel",
          "model_module_version": "1.5.0",
          "state": {
            "_dom_classes": [],
            "_model_module": "@jupyter-widgets/controls",
            "_model_module_version": "1.5.0",
            "_model_name": "HTMLModel",
            "_view_count": null,
            "_view_module": "@jupyter-widgets/controls",
            "_view_module_version": "1.5.0",
            "_view_name": "HTMLView",
            "description": "",
            "description_tooltip": null,
            "layout": "IPY_MODEL_e5982f1095754d058837a74cdcf33dad",
            "placeholder": "​",
            "style": "IPY_MODEL_a6ffa31258b546c49f038910d108b3d6",
            "value": " 64/64 [01:52&lt;00:00,  1.55s/it]"
          }
        },
        "182d90415b3c4844b967efa8b9fe9317": {
          "model_module": "@jupyter-widgets/base",
          "model_name": "LayoutModel",
          "model_module_version": "1.2.0",
          "state": {
            "_model_module": "@jupyter-widgets/base",
            "_model_module_version": "1.2.0",
            "_model_name": "LayoutModel",
            "_view_count": null,
            "_view_module": "@jupyter-widgets/base",
            "_view_module_version": "1.2.0",
            "_view_name": "LayoutView",
            "align_content": null,
            "align_items": null,
            "align_self": null,
            "border": null,
            "bottom": null,
            "display": null,
            "flex": null,
            "flex_flow": null,
            "grid_area": null,
            "grid_auto_columns": null,
            "grid_auto_flow": null,
            "grid_auto_rows": null,
            "grid_column": null,
            "grid_gap": null,
            "grid_row": null,
            "grid_template_areas": null,
            "grid_template_columns": null,
            "grid_template_rows": null,
            "height": null,
            "justify_content": null,
            "justify_items": null,
            "left": null,
            "margin": null,
            "max_height": null,
            "max_width": null,
            "min_height": null,
            "min_width": null,
            "object_fit": null,
            "object_position": null,
            "order": null,
            "overflow": null,
            "overflow_x": null,
            "overflow_y": null,
            "padding": null,
            "right": null,
            "top": null,
            "visibility": null,
            "width": null
          }
        },
        "d43718fdf1b648cca1548cf9d77284b8": {
          "model_module": "@jupyter-widgets/base",
          "model_name": "LayoutModel",
          "model_module_version": "1.2.0",
          "state": {
            "_model_module": "@jupyter-widgets/base",
            "_model_module_version": "1.2.0",
            "_model_name": "LayoutModel",
            "_view_count": null,
            "_view_module": "@jupyter-widgets/base",
            "_view_module_version": "1.2.0",
            "_view_name": "LayoutView",
            "align_content": null,
            "align_items": null,
            "align_self": null,
            "border": null,
            "bottom": null,
            "display": null,
            "flex": null,
            "flex_flow": null,
            "grid_area": null,
            "grid_auto_columns": null,
            "grid_auto_flow": null,
            "grid_auto_rows": null,
            "grid_column": null,
            "grid_gap": null,
            "grid_row": null,
            "grid_template_areas": null,
            "grid_template_columns": null,
            "grid_template_rows": null,
            "height": null,
            "justify_content": null,
            "justify_items": null,
            "left": null,
            "margin": null,
            "max_height": null,
            "max_width": null,
            "min_height": null,
            "min_width": null,
            "object_fit": null,
            "object_position": null,
            "order": null,
            "overflow": null,
            "overflow_x": null,
            "overflow_y": null,
            "padding": null,
            "right": null,
            "top": null,
            "visibility": null,
            "width": null
          }
        },
        "998486ad35a744d798608585463df2a2": {
          "model_module": "@jupyter-widgets/controls",
          "model_name": "DescriptionStyleModel",
          "model_module_version": "1.5.0",
          "state": {
            "_model_module": "@jupyter-widgets/controls",
            "_model_module_version": "1.5.0",
            "_model_name": "DescriptionStyleModel",
            "_view_count": null,
            "_view_module": "@jupyter-widgets/base",
            "_view_module_version": "1.2.0",
            "_view_name": "StyleView",
            "description_width": ""
          }
        },
        "e7c02c21fb8b413786a74864d8522ef2": {
          "model_module": "@jupyter-widgets/base",
          "model_name": "LayoutModel",
          "model_module_version": "1.2.0",
          "state": {
            "_model_module": "@jupyter-widgets/base",
            "_model_module_version": "1.2.0",
            "_model_name": "LayoutModel",
            "_view_count": null,
            "_view_module": "@jupyter-widgets/base",
            "_view_module_version": "1.2.0",
            "_view_name": "LayoutView",
            "align_content": null,
            "align_items": null,
            "align_self": null,
            "border": null,
            "bottom": null,
            "display": null,
            "flex": null,
            "flex_flow": null,
            "grid_area": null,
            "grid_auto_columns": null,
            "grid_auto_flow": null,
            "grid_auto_rows": null,
            "grid_column": null,
            "grid_gap": null,
            "grid_row": null,
            "grid_template_areas": null,
            "grid_template_columns": null,
            "grid_template_rows": null,
            "height": null,
            "justify_content": null,
            "justify_items": null,
            "left": null,
            "margin": null,
            "max_height": null,
            "max_width": null,
            "min_height": null,
            "min_width": null,
            "object_fit": null,
            "object_position": null,
            "order": null,
            "overflow": null,
            "overflow_x": null,
            "overflow_y": null,
            "padding": null,
            "right": null,
            "top": null,
            "visibility": null,
            "width": null
          }
        },
        "652955abc6e34e9e919158f20b7fc067": {
          "model_module": "@jupyter-widgets/controls",
          "model_name": "ProgressStyleModel",
          "model_module_version": "1.5.0",
          "state": {
            "_model_module": "@jupyter-widgets/controls",
            "_model_module_version": "1.5.0",
            "_model_name": "ProgressStyleModel",
            "_view_count": null,
            "_view_module": "@jupyter-widgets/base",
            "_view_module_version": "1.2.0",
            "_view_name": "StyleView",
            "bar_color": null,
            "description_width": ""
          }
        },
        "e5982f1095754d058837a74cdcf33dad": {
          "model_module": "@jupyter-widgets/base",
          "model_name": "LayoutModel",
          "model_module_version": "1.2.0",
          "state": {
            "_model_module": "@jupyter-widgets/base",
            "_model_module_version": "1.2.0",
            "_model_name": "LayoutModel",
            "_view_count": null,
            "_view_module": "@jupyter-widgets/base",
            "_view_module_version": "1.2.0",
            "_view_name": "LayoutView",
            "align_content": null,
            "align_items": null,
            "align_self": null,
            "border": null,
            "bottom": null,
            "display": null,
            "flex": null,
            "flex_flow": null,
            "grid_area": null,
            "grid_auto_columns": null,
            "grid_auto_flow": null,
            "grid_auto_rows": null,
            "grid_column": null,
            "grid_gap": null,
            "grid_row": null,
            "grid_template_areas": null,
            "grid_template_columns": null,
            "grid_template_rows": null,
            "height": null,
            "justify_content": null,
            "justify_items": null,
            "left": null,
            "margin": null,
            "max_height": null,
            "max_width": null,
            "min_height": null,
            "min_width": null,
            "object_fit": null,
            "object_position": null,
            "order": null,
            "overflow": null,
            "overflow_x": null,
            "overflow_y": null,
            "padding": null,
            "right": null,
            "top": null,
            "visibility": null,
            "width": null
          }
        },
        "a6ffa31258b546c49f038910d108b3d6": {
          "model_module": "@jupyter-widgets/controls",
          "model_name": "DescriptionStyleModel",
          "model_module_version": "1.5.0",
          "state": {
            "_model_module": "@jupyter-widgets/controls",
            "_model_module_version": "1.5.0",
            "_model_name": "DescriptionStyleModel",
            "_view_count": null,
            "_view_module": "@jupyter-widgets/base",
            "_view_module_version": "1.2.0",
            "_view_name": "StyleView",
            "description_width": ""
          }
        },
        "618fdfb37c2e4e17bcf7377c4e74fb36": {
          "model_module": "@jupyter-widgets/controls",
          "model_name": "HTMLModel",
          "model_module_version": "1.5.0",
          "state": {
            "_dom_classes": [],
            "_model_module": "@jupyter-widgets/controls",
            "_model_module_version": "1.5.0",
            "_model_name": "HTMLModel",
            "_view_count": null,
            "_view_module": "@jupyter-widgets/controls",
            "_view_module_version": "1.5.0",
            "_view_name": "HTMLView",
            "description": "",
            "description_tooltip": null,
            "layout": "IPY_MODEL_0d00f4b95b874721adf89e8b2f13f35f",
            "placeholder": "​",
            "style": "IPY_MODEL_59d412c49a4f43e0bd13d9446583a41f",
            "value": "<img src=\"data:image/gif;base64,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\" />"
          }
        },
        "0d00f4b95b874721adf89e8b2f13f35f": {
          "model_module": "@jupyter-widgets/base",
          "model_name": "LayoutModel",
          "model_module_version": "1.2.0",
          "state": {
            "_model_module": "@jupyter-widgets/base",
            "_model_module_version": "1.2.0",
            "_model_name": "LayoutModel",
            "_view_count": null,
            "_view_module": "@jupyter-widgets/base",
            "_view_module_version": "1.2.0",
            "_view_name": "LayoutView",
            "align_content": null,
            "align_items": null,
            "align_self": null,
            "border": null,
            "bottom": null,
            "display": null,
            "flex": null,
            "flex_flow": null,
            "grid_area": null,
            "grid_auto_columns": null,
            "grid_auto_flow": null,
            "grid_auto_rows": null,
            "grid_column": null,
            "grid_gap": null,
            "grid_row": null,
            "grid_template_areas": null,
            "grid_template_columns": null,
            "grid_template_rows": null,
            "height": null,
            "justify_content": null,
            "justify_items": null,
            "left": null,
            "margin": null,
            "max_height": null,
            "max_width": null,
            "min_height": null,
            "min_width": null,
            "object_fit": null,
            "object_position": null,
            "order": null,
            "overflow": null,
            "overflow_x": null,
            "overflow_y": null,
            "padding": null,
            "right": null,
            "top": null,
            "visibility": null,
            "width": null
          }
        },
        "59d412c49a4f43e0bd13d9446583a41f": {
          "model_module": "@jupyter-widgets/controls",
          "model_name": "DescriptionStyleModel",
          "model_module_version": "1.5.0",
          "state": {
            "_model_module": "@jupyter-widgets/controls",
            "_model_module_version": "1.5.0",
            "_model_name": "DescriptionStyleModel",
            "_view_count": null,
            "_view_module": "@jupyter-widgets/base",
            "_view_module_version": "1.2.0",
            "_view_name": "StyleView",
            "description_width": ""
          }
        },
        "22f28d9f0b054c7ab25e3debf1342eea": {
          "model_module": "@jupyter-widgets/controls",
          "model_name": "HTMLModel",
          "model_module_version": "1.5.0",
          "state": {
            "_dom_classes": [],
            "_model_module": "@jupyter-widgets/controls",
            "_model_module_version": "1.5.0",
            "_model_name": "HTMLModel",
            "_view_count": null,
            "_view_module": "@jupyter-widgets/controls",
            "_view_module_version": "1.5.0",
            "_view_name": "HTMLView",
            "description": "",
            "description_tooltip": null,
            "layout": "IPY_MODEL_6637c7727b2948b4b35ae01c96b3a17e",
            "placeholder": "​",
            "style": "IPY_MODEL_27a0e87c8ca244eab59e31a425d69bfe",
            "value": "<img src=\"data:image/gif;base64,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\" />"
          }
        },
        "6637c7727b2948b4b35ae01c96b3a17e": {
          "model_module": "@jupyter-widgets/base",
          "model_name": "LayoutModel",
          "model_module_version": "1.2.0",
          "state": {
            "_model_module": "@jupyter-widgets/base",
            "_model_module_version": "1.2.0",
            "_model_name": "LayoutModel",
            "_view_count": null,
            "_view_module": "@jupyter-widgets/base",
            "_view_module_version": "1.2.0",
            "_view_name": "LayoutView",
            "align_content": null,
            "align_items": null,
            "align_self": null,
            "border": null,
            "bottom": null,
            "display": null,
            "flex": null,
            "flex_flow": null,
            "grid_area": null,
            "grid_auto_columns": null,
            "grid_auto_flow": null,
            "grid_auto_rows": null,
            "grid_column": null,
            "grid_gap": null,
            "grid_row": null,
            "grid_template_areas": null,
            "grid_template_columns": null,
            "grid_template_rows": null,
            "height": null,
            "justify_content": null,
            "justify_items": null,
            "left": null,
            "margin": null,
            "max_height": null,
            "max_width": null,
            "min_height": null,
            "min_width": null,
            "object_fit": null,
            "object_position": null,
            "order": null,
            "overflow": null,
            "overflow_x": null,
            "overflow_y": null,
            "padding": null,
            "right": null,
            "top": null,
            "visibility": null,
            "width": null
          }
        },
        "27a0e87c8ca244eab59e31a425d69bfe": {
          "model_module": "@jupyter-widgets/controls",
          "model_name": "DescriptionStyleModel",
          "model_module_version": "1.5.0",
          "state": {
            "_model_module": "@jupyter-widgets/controls",
            "_model_module_version": "1.5.0",
            "_model_name": "DescriptionStyleModel",
            "_view_count": null,
            "_view_module": "@jupyter-widgets/base",
            "_view_module_version": "1.2.0",
            "_view_name": "StyleView",
            "description_width": ""
          }
        },
        "de7de18467e846a9be8845b8e1e22ca7": {
          "model_module": "@jupyter-widgets/controls",
          "model_name": "HTMLModel",
          "model_module_version": "1.5.0",
          "state": {
            "_dom_classes": [],
            "_model_module": "@jupyter-widgets/controls",
            "_model_module_version": "1.5.0",
            "_model_name": "HTMLModel",
            "_view_count": null,
            "_view_module": "@jupyter-widgets/controls",
            "_view_module_version": "1.5.0",
            "_view_name": "HTMLView",
            "description": "",
            "description_tooltip": null,
            "layout": "IPY_MODEL_2b5d0c86d6da4178a0fe47f6e2883688",
            "placeholder": "​",
            "style": "IPY_MODEL_1e6e5b284f6f4b978ff1ae99edf03a2a",
            "value": "<img src=\"data:image/gif;base64,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\" />"
          }
        },
        "2b5d0c86d6da4178a0fe47f6e2883688": {
          "model_module": "@jupyter-widgets/base",
          "model_name": "LayoutModel",
          "model_module_version": "1.2.0",
          "state": {
            "_model_module": "@jupyter-widgets/base",
            "_model_module_version": "1.2.0",
            "_model_name": "LayoutModel",
            "_view_count": null,
            "_view_module": "@jupyter-widgets/base",
            "_view_module_version": "1.2.0",
            "_view_name": "LayoutView",
            "align_content": null,
            "align_items": null,
            "align_self": null,
            "border": null,
            "bottom": null,
            "display": null,
            "flex": null,
            "flex_flow": null,
            "grid_area": null,
            "grid_auto_columns": null,
            "grid_auto_flow": null,
            "grid_auto_rows": null,
            "grid_column": null,
            "grid_gap": null,
            "grid_row": null,
            "grid_template_areas": null,
            "grid_template_columns": null,
            "grid_template_rows": null,
            "height": null,
            "justify_content": null,
            "justify_items": null,
            "left": null,
            "margin": null,
            "max_height": null,
            "max_width": null,
            "min_height": null,
            "min_width": null,
            "object_fit": null,
            "object_position": null,
            "order": null,
            "overflow": null,
            "overflow_x": null,
            "overflow_y": null,
            "padding": null,
            "right": null,
            "top": null,
            "visibility": null,
            "width": null
          }
        },
        "1e6e5b284f6f4b978ff1ae99edf03a2a": {
          "model_module": "@jupyter-widgets/controls",
          "model_name": "DescriptionStyleModel",
          "model_module_version": "1.5.0",
          "state": {
            "_model_module": "@jupyter-widgets/controls",
            "_model_module_version": "1.5.0",
            "_model_name": "DescriptionStyleModel",
            "_view_count": null,
            "_view_module": "@jupyter-widgets/base",
            "_view_module_version": "1.2.0",
            "_view_name": "StyleView",
            "description_width": ""
          }
        },
        "b013040982f540749765136f2b5f598c": {
          "model_module": "@jupyter-widgets/controls",
          "model_name": "HTMLModel",
          "model_module_version": "1.5.0",
          "state": {
            "_dom_classes": [],
            "_model_module": "@jupyter-widgets/controls",
            "_model_module_version": "1.5.0",
            "_model_name": "HTMLModel",
            "_view_count": null,
            "_view_module": "@jupyter-widgets/controls",
            "_view_module_version": "1.5.0",
            "_view_name": "HTMLView",
            "description": "",
            "description_tooltip": null,
            "layout": "IPY_MODEL_a74a07c4db464b2c9348d1b25d6a0ec2",
            "placeholder": "​",
            "style": "IPY_MODEL_6590577a8f6c490ea9c8882824ff6d6d",
            "value": "<img src=\"data:image/gif;base64,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\" />"
          }
        },
        "a74a07c4db464b2c9348d1b25d6a0ec2": {
          "model_module": "@jupyter-widgets/base",
          "model_name": "LayoutModel",
          "model_module_version": "1.2.0",
          "state": {
            "_model_module": "@jupyter-widgets/base",
            "_model_module_version": "1.2.0",
            "_model_name": "LayoutModel",
            "_view_count": null,
            "_view_module": "@jupyter-widgets/base",
            "_view_module_version": "1.2.0",
            "_view_name": "LayoutView",
            "align_content": null,
            "align_items": null,
            "align_self": null,
            "border": null,
            "bottom": null,
            "display": null,
            "flex": null,
            "flex_flow": null,
            "grid_area": null,
            "grid_auto_columns": null,
            "grid_auto_flow": null,
            "grid_auto_rows": null,
            "grid_column": null,
            "grid_gap": null,
            "grid_row": null,
            "grid_template_areas": null,
            "grid_template_columns": null,
            "grid_template_rows": null,
            "height": null,
            "justify_content": null,
            "justify_items": null,
            "left": null,
            "margin": null,
            "max_height": null,
            "max_width": null,
            "min_height": null,
            "min_width": null,
            "object_fit": null,
            "object_position": null,
            "order": null,
            "overflow": null,
            "overflow_x": null,
            "overflow_y": null,
            "padding": null,
            "right": null,
            "top": null,
            "visibility": null,
            "width": null
          }
        },
        "6590577a8f6c490ea9c8882824ff6d6d": {
          "model_module": "@jupyter-widgets/controls",
          "model_name": "DescriptionStyleModel",
          "model_module_version": "1.5.0",
          "state": {
            "_model_module": "@jupyter-widgets/controls",
            "_model_module_version": "1.5.0",
            "_model_name": "DescriptionStyleModel",
            "_view_count": null,
            "_view_module": "@jupyter-widgets/base",
            "_view_module_version": "1.2.0",
            "_view_name": "StyleView",
            "description_width": ""
          }
        }
      }
    },
    "accelerator": "GPU"
  },
  "nbformat": 4,
  "nbformat_minor": 0
}